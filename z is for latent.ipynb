{
 "cells": [
  {
   "cell_type": "code",
   "execution_count": 1,
   "metadata": {
    "cell_id": "00000-26bed556-2d40-46e2-b18d-c1f6bdbf3d65",
    "deepnote_cell_type": "code",
    "deepnote_to_be_reexecuted": false,
    "execution_millis": 1,
    "execution_start": 1617892016829,
    "source_hash": "3089ec64",
    "tags": []
   },
   "outputs": [
    {
     "ename": "ModuleNotFoundError",
     "evalue": "No module named 'torch'",
     "output_type": "error",
     "traceback": [
      "\u001b[1;31m---------------------------------------------------------------------------\u001b[0m",
      "\u001b[1;31mModuleNotFoundError\u001b[0m                       Traceback (most recent call last)",
      "\u001b[1;32m<ipython-input-1-2557b56eaaae>\u001b[0m in \u001b[0;36m<module>\u001b[1;34m\u001b[0m\n\u001b[1;32m----> 1\u001b[1;33m \u001b[1;32mimport\u001b[0m \u001b[0mtorch\u001b[0m\u001b[1;33m\u001b[0m\u001b[1;33m\u001b[0m\u001b[0m\n\u001b[0m\u001b[0;32m      2\u001b[0m \u001b[1;32mfrom\u001b[0m \u001b[0mtorch\u001b[0m \u001b[1;32mimport\u001b[0m \u001b[0mnn\u001b[0m\u001b[1;33m\u001b[0m\u001b[1;33m\u001b[0m\u001b[0m\n\u001b[0;32m      3\u001b[0m \u001b[1;32mfrom\u001b[0m \u001b[0mtorch\u001b[0m\u001b[1;33m.\u001b[0m\u001b[0mdistributions\u001b[0m\u001b[1;33m.\u001b[0m\u001b[0mnormal\u001b[0m \u001b[1;32mimport\u001b[0m \u001b[0mNormal\u001b[0m\u001b[1;33m\u001b[0m\u001b[1;33m\u001b[0m\u001b[0m\n\u001b[0;32m      4\u001b[0m \u001b[1;32mfrom\u001b[0m \u001b[0mtorch\u001b[0m\u001b[1;33m.\u001b[0m\u001b[0mdistributions\u001b[0m\u001b[1;33m.\u001b[0m\u001b[0mkl\u001b[0m \u001b[1;32mimport\u001b[0m \u001b[0mkl_divergence\u001b[0m\u001b[1;33m\u001b[0m\u001b[1;33m\u001b[0m\u001b[0m\n",
      "\u001b[1;31mModuleNotFoundError\u001b[0m: No module named 'torch'"
     ]
    }
   ],
   "source": [
    "import torch\n",
    "from torch import nn\n",
    "from torch.distributions.normal import Normal\n",
    "from torch.distributions.kl import kl_divergence"
   ]
  },
  {
   "cell_type": "code",
   "execution_count": null,
   "metadata": {
    "cell_id": "00001-38962075-850b-432a-9122-cc2be15e8219",
    "deepnote_cell_type": "code",
    "deepnote_to_be_reexecuted": false,
    "execution_millis": 0,
    "execution_start": 1617891283811,
    "source_hash": "398cd7f3",
    "tags": []
   },
   "outputs": [],
   "source": [
    "def sample_new_weight(module, input):\n",
    "    m = module\n",
    "\n",
    "    if ('bias' in module._parameters.keys()) and (module.bias is not None):\n",
    "        has_bias = True\n",
    "    else:\n",
    "        has_bias = False\n",
    "\n",
    "    # Weight\n",
    "    # std = module.weight_logvar.mul(1/2).exp()\n",
    "    # eps = torch.randn_like(std)\n",
    "    # setattr(module, \"weight\", module.weight_mean + eps*std)\n",
    "    setattr(module, \"weight\", Normal(m.weight_mean, m.weight_logvar.mul(1/2).exp()).rsample())\n",
    "\n",
    "    # Bias\n",
    "    # std = torch.exp(0.5 * module.bias_logvar)\n",
    "    # eps = torch.radn_like(std)\n",
    "    # setattr(module, \"bias\", module.bias_mean + eps*std)\n",
    "    if has_bias:\n",
    "        setattr(module, \"bias\", Normal(m.bias_mean, m.bias_logvar.mul(1/2).exp()).rsample())\n",
    "    else:\n",
    "        setattr(module, \"bias\", None)\n",
    "\n",
    "    return None\n",
    "\n",
    "\n",
    "def make_variational_linear(module, name=None):\n",
    "    m, has_bias = module, module.bias is not None\n",
    "    setattr(module, \"name\", name)\n",
    "\n",
    "    del m._parameters['weight']\n",
    "\n",
    "    if has_bias:\n",
    "        del m._parameters['bias']\n",
    "\n",
    "    weight_mean_param   = nn.Parameter(torch.Tensor(m.out_features, m.in_features))\n",
    "    weight_logvar_param = nn.Parameter(torch.Tensor(m.out_features, m.in_features))\n",
    "\n",
    "    m.register_parameter('weight_mean', weight_mean_param)\n",
    "    m.register_parameter('weight_logvar', weight_logvar_param)\n",
    "\n",
    "    variance = 2 / (m.out_features + m.in_features)\n",
    "    nn.init.normal_(weight_mean_param, 0.0, std = variance**(1/2))\n",
    "    nn.init.constant_(weight_logvar_param, -5) # WAS -10\n",
    "\n",
    "    if has_bias:\n",
    "        bias_mean_param    = nn.Parameter(torch.Tensor(m.out_features))\n",
    "        bias_logvar_param  = nn.Parameter(torch.Tensor(m.out_features))\n",
    "\n",
    "        m.register_parameter('bias_mean', bias_mean_param)\n",
    "        m.register_parameter('bias_logvar', bias_logvar_param)\n",
    "\n",
    "        nn.init.constant_(bias_mean_param, 0.1)\n",
    "        nn.init.constant_(bias_logvar_param, -5) # WAS -10\n",
    "\n",
    "\n",
    "    m.register_forward_pre_hook(sample_new_weight)\n",
    "    sample_new_weight(m, None)\n",
    "\n",
    "    return m\n"
   ]
  },
  {
   "cell_type": "code",
   "execution_count": null,
   "metadata": {
    "cell_id": "00002-1475bd90-08f2-4727-8789-2ec518c8693d",
    "deepnote_cell_type": "code",
    "deepnote_to_be_reexecuted": false,
    "execution_millis": 0,
    "execution_start": 1617891284479,
    "source_hash": "5a79321f",
    "tags": []
   },
   "outputs": [],
   "source": [
    "variational_layers = []\n",
    "\n",
    "fc3 = nn.Linear(2, 32)\n",
    "fc3 = make_variational_linear(fc3)\n",
    "variational_layers.append(fc3)\n",
    "\n",
    "fc3h = nn.Linear(32, 64)\n",
    "fc3h = make_variational_linear(fc3h)\n",
    "variational_layers.append(fc3h)"
   ]
  },
  {
   "cell_type": "code",
   "execution_count": null,
   "metadata": {
    "cell_id": "00003-13d59df3-c12d-4736-8608-dfa078d2e7d5",
    "deepnote_cell_type": "code",
    "deepnote_to_be_reexecuted": false,
    "execution_millis": 21,
    "execution_start": 1617891469395,
    "source_hash": "f007b1ab",
    "tags": []
   },
   "outputs": [
    {
     "data": {
      "text/plain": [
       "torch.nn.modules.linear.Linear"
      ]
     },
     "execution_count": 19,
     "metadata": {},
     "output_type": "execute_result"
    }
   ],
   "source": [
    "type(variational_layers[0])"
   ]
  },
  {
   "cell_type": "code",
   "execution_count": null,
   "metadata": {
    "cell_id": "00003-93d4d598-4341-4d34-a4ad-3ff21e778c40",
    "deepnote_cell_type": "code",
    "deepnote_to_be_reexecuted": false,
    "execution_millis": 130,
    "execution_start": 1617891289824,
    "source_hash": "30815710",
    "tags": []
   },
   "outputs": [
    {
     "data": {
      "text/plain": [
       "[Linear(in_features=2, out_features=32, bias=False),\n",
       " Linear(in_features=32, out_features=64, bias=False)]"
      ]
     },
     "execution_count": 9,
     "metadata": {},
     "output_type": "execute_result"
    }
   ],
   "source": [
    "variational_layers"
   ]
  },
  {
   "cell_type": "code",
   "execution_count": null,
   "metadata": {
    "cell_id": "00004-db387f09-b160-4fc1-a2d7-eed407a25d2a",
    "deepnote_cell_type": "code",
    "deepnote_to_be_reexecuted": false,
    "execution_millis": 6,
    "execution_start": 1617891902734,
    "source_hash": "9d530c04",
    "tags": []
   },
   "outputs": [
    {
     "data": {
      "text/plain": [
       "odict_keys(['weight_mean', 'weight_logvar', 'bias_mean', 'bias_logvar'])"
      ]
     },
     "execution_count": 20,
     "metadata": {},
     "output_type": "execute_result"
    }
   ],
   "source": [
    "variational_layers[0]._parameters.keys()"
   ]
  },
  {
   "cell_type": "code",
   "execution_count": null,
   "metadata": {
    "cell_id": "00005-7e542465-63ac-422f-80e2-0c3f5e0e2fa1",
    "deepnote_cell_type": "code",
    "deepnote_to_be_reexecuted": false,
    "execution_millis": 1,
    "execution_start": 1617892018932,
    "source_hash": "2a18b404",
    "tags": []
   },
   "outputs": [],
   "source": [
    "KLP = 0\n",
    "for l in variational_layers:\n",
    "    bias_mu, bias_std = l.bias_mean, l.bias_logvar.mul(1/2).exp()\n",
    "    q_bias = Normal(bias_mu, bias_std)\n",
    "    p_bias = Normal(torch.zeros_like(bias_mu), torch.ones_like(bias_std))\n",
    "    KLP += kl_divergence(q_bias, p_bias).sum()"
   ]
  },
  {
   "cell_type": "code",
   "execution_count": null,
   "metadata": {
    "cell_id": "00007-8ff2f8e3-f939-4be4-a029-97177d38f098",
    "deepnote_cell_type": "code",
    "deepnote_to_be_reexecuted": false,
    "execution_millis": 12,
    "execution_start": 1617892023900,
    "source_hash": "23678071",
    "tags": []
   },
   "outputs": [
    {
     "data": {
      "text/plain": [
       "tensor(192.8034, grad_fn=<AddBackward0>)"
      ]
     },
     "execution_count": 24,
     "metadata": {},
     "output_type": "execute_result"
    }
   ],
   "source": [
    "KLP"
   ]
  },
  {
   "cell_type": "code",
   "execution_count": null,
   "metadata": {
    "cell_id": "00008-2694f8e7-80a5-47c1-971d-777c5dbc2997",
    "deepnote_cell_type": "code",
    "tags": []
   },
   "outputs": [],
   "source": []
  },
  {
   "cell_type": "markdown",
   "metadata": {
    "created_in_deepnote_cell": true,
    "deepnote_cell_type": "markdown",
    "tags": []
   },
   "source": [
    "<a style='text-decoration:none;line-height:16px;display:flex;color:#5B5B62;padding:10px;justify-content:end;' href='https://deepnote.com?utm_source=created-in-deepnote-cell&projectId=35838f82-2ce6-4453-9bd2-2d87a43af151' target=\"_blank\">\n",
    "<img alt='Created in deepnote.com' style='display:inline;max-height:16px;margin:0px;margin-right:7.5px;' src='data:image/svg+xml;base64,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' > </img>\n",
    "Created in <span style='font-weight:600;margin-left:4px;'>Deepnote</span></a>"
   ]
  }
 ],
 "metadata": {
  "deepnote": {
   "is_reactive": false
  },
  "deepnote_execution_queue": [],
  "deepnote_notebook_id": "bfc08730-51be-4831-8d4e-2aad44fe4728",
  "kernelspec": {
   "display_name": "Python 3",
   "language": "python",
   "name": "python3"
  },
  "language_info": {
   "codemirror_mode": {
    "name": "ipython",
    "version": 3
   },
   "file_extension": ".py",
   "mimetype": "text/x-python",
   "name": "python",
   "nbconvert_exporter": "python",
   "pygments_lexer": "ipython3",
   "version": "3.7.7"
  }
 },
 "nbformat": 4,
 "nbformat_minor": 2
}
